{
 "cells": [
  {
   "cell_type": "markdown",
   "metadata": {},
   "source": [
    "This notebook is for the Expectation Suite creation"
   ]
  },
  {
   "cell_type": "code",
   "execution_count": 1,
   "metadata": {},
   "outputs": [],
   "source": [
    "# Imports\n",
    "\n",
    "import great_expectations as gx\n",
    "from great_expectations.data_context import FileDataContext\n",
    "from great_expectations.core.expectation_configuration import ExpectationConfiguration"
   ]
  },
  {
   "cell_type": "code",
   "execution_count": 2,
   "metadata": {},
   "outputs": [],
   "source": [
    "# Initiate a Filesystem Data Context\n",
    "# Note: Replace /Users/fernandoembrioni/Documents/Fer/repos/ for the path previous to this repository\n",
    "\n",
    "path_to_empty_folder = \"/Users/fernandoembrioni/Documents/Fer/repos/fer-gx/datacontext\"\n",
    "context = FileDataContext.create(project_root_dir=path_to_empty_folder)"
   ]
  },
  {
   "cell_type": "code",
   "execution_count": 5,
   "metadata": {},
   "outputs": [],
   "source": [
    "# Creation of an Expectation Suite\n",
    "\n",
    "suite = context.add_expectation_suite(expectation_suite_name=\"taxi_expectation_suite\")"
   ]
  },
  {
   "cell_type": "code",
   "execution_count": 6,
   "metadata": {},
   "outputs": [
    {
     "data": {
      "text/plain": [
       "{\"expectation_type\": \"expect_table_columns_to_match_ordered_list\", \"kwargs\": {\"column_list\": [\"vendor_id\", \"pickup_datetime\", \"dropoff_datetime\", \"passenger_count\", \"trip_distance\", \"rate_code_id\", \"store_and_fwd_flag\", \"pickup_location_id\", \"dropoff_location_id\", \"payment_type\", \"fare_amount\", \"extra\", \"mta_tax\", \"tip_amount\", \"tolls_amount\", \"improvement_surcharge\", \"total_amount\", \"congestion_surcharge\"]}, \"meta\": {\"notes\": {\"format\": \"markdown\", \"content\": \"Check all the expected columns are ordered\"}}}"
      ]
     },
     "execution_count": 6,
     "metadata": {},
     "output_type": "execute_result"
    }
   ],
   "source": [
    "# Create Expectation Configurations\n",
    "\n",
    "# Create an Expectation\n",
    "expectation_configuration_1 = ExpectationConfiguration(\n",
    "    # Name of expectation type being added\n",
    "    expectation_type=\"expect_table_columns_to_match_ordered_list\",\n",
    "    # These are the arguments of the expectation\n",
    "    # The keys allowed in the dictionary are Parameters and\n",
    "    # Keyword Arguments of this Expectation Type\n",
    "    kwargs={\n",
    "        \"column_list\": [\n",
    "            \"vendor_id\",\n",
    "            \"pickup_datetime\",\n",
    "            \"dropoff_datetime\",\n",
    "            \"passenger_count\",\n",
    "            \"trip_distance\",\n",
    "            \"rate_code_id\",\n",
    "            \"store_and_fwd_flag\",\n",
    "            \"pickup_location_id\",\n",
    "            \"dropoff_location_id\",\n",
    "            \"payment_type\",\n",
    "            \"fare_amount\",\n",
    "            \"extra\",\n",
    "            \"mta_tax\",\n",
    "            \"tip_amount\",\n",
    "            \"tolls_amount\",\n",
    "            \"improvement_surcharge\",\n",
    "            \"total_amount\",\n",
    "            \"congestion_surcharge\",\n",
    "        ]\n",
    "    },\n",
    "    # This is how you can optionally add a comment about this expectation.\n",
    "    # It will be rendered in Data Docs.\n",
    "    # See this guide for details:\n",
    "    # `How to add comments to Expectations and display them in Data Docs`.\n",
    "    meta={\n",
    "        \"notes\": {\n",
    "            \"format\": \"markdown\",\n",
    "            \"content\": \"Check all the expected columns are ordered\",\n",
    "        }\n",
    "    },\n",
    ")\n",
    "# Add the Expectation to the suite\n",
    "suite.add_expectation(expectation_configuration=expectation_configuration_1)"
   ]
  },
  {
   "cell_type": "code",
   "execution_count": 7,
   "metadata": {},
   "outputs": [
    {
     "data": {
      "text/plain": [
       "{\"expectation_type\": \"expect_column_values_to_be_in_set\", \"kwargs\": {\"column\": \"rate_code_id\", \"value_set\": [1]}, \"meta\": {}}"
      ]
     },
     "execution_count": 7,
     "metadata": {},
     "output_type": "execute_result"
    }
   ],
   "source": [
    "# Create another expectation\n",
    "\n",
    "expectation_configuration_2 = ExpectationConfiguration(\n",
    "    expectation_type=\"expect_column_values_to_be_in_set\",\n",
    "    kwargs={\n",
    "        \"column\": \"rate_code_id\",\n",
    "        \"value_set\": [1, ],\n",
    "    },\n",
    "    # Note optional comments omitted\n",
    ")\n",
    "suite.add_expectation(expectation_configuration=expectation_configuration_2)"
   ]
  },
  {
   "cell_type": "code",
   "execution_count": 8,
   "metadata": {},
   "outputs": [
    {
     "data": {
      "text/plain": [
       "{\"expectation_type\": \"expect_column_values_to_not_be_null\", \"kwargs\": {\"column\": \"vendor_id\", \"mostly\": 0.95}, \"meta\": {\"notes\": {\"format\": \"markdown\", \"content\": \"Check that `vendor_id` column is not null\"}}}"
      ]
     },
     "execution_count": 8,
     "metadata": {},
     "output_type": "execute_result"
    }
   ],
   "source": [
    "# Create another expectation\n",
    "\n",
    "expectation_configuration_3 = ExpectationConfiguration(\n",
    "    expectation_type=\"expect_column_values_to_not_be_null\",\n",
    "    kwargs={\n",
    "        \"column\": \"vendor_id\",\n",
    "        \"mostly\": 0.95,\n",
    "    },\n",
    "    meta={\n",
    "        \"notes\": {\n",
    "            \"format\": \"markdown\",\n",
    "            \"content\": \"Check that `vendor_id` column is not null\",\n",
    "        }\n",
    "    },\n",
    ")\n",
    "suite.add_expectation(expectation_configuration=expectation_configuration_3)"
   ]
  },
  {
   "cell_type": "code",
   "execution_count": 9,
   "metadata": {},
   "outputs": [
    {
     "data": {
      "text/plain": [
       "'/Users/fernandoembrioni/Documents/Fer/repos/fer-gx/datacontext/great_expectations/expectations/taxi_expectation_suite.json'"
      ]
     },
     "execution_count": 9,
     "metadata": {},
     "output_type": "execute_result"
    }
   ],
   "source": [
    "# Save expectations for future use\n",
    "\n",
    "context.save_expectation_suite(expectation_suite=suite)"
   ]
  }
 ],
 "metadata": {
  "kernelspec": {
   "display_name": "gxvenv",
   "language": "python",
   "name": "python3"
  },
  "language_info": {
   "codemirror_mode": {
    "name": "ipython",
    "version": 3
   },
   "file_extension": ".py",
   "mimetype": "text/x-python",
   "name": "python",
   "nbconvert_exporter": "python",
   "pygments_lexer": "ipython3",
   "version": "3.11.4"
  },
  "orig_nbformat": 4
 },
 "nbformat": 4,
 "nbformat_minor": 2
}
